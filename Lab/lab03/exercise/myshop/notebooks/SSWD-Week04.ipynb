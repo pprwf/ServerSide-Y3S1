{
 "cells": [
  {
   "cell_type": "code",
   "execution_count": 1,
   "id": "d6920fb0",
   "metadata": {},
   "outputs": [],
   "source": [
    "import os\n",
    "os.environ[\"DJANGO_ALLOW_ASYNC_UNSAFE\"] = \"true\""
   ]
  },
  {
   "cell_type": "code",
   "execution_count": 2,
   "id": "6a7f5267",
   "metadata": {},
   "outputs": [],
   "source": [
    " from shop.models import Order, Product, ProductCategory"
   ]
  },
  {
   "cell_type": "code",
   "execution_count": 8,
   "id": "8fab9935",
   "metadata": {},
   "outputs": [
    {
     "name": "stdout",
     "output_type": "stream",
     "text": [
      "ORDER ID:22, DATE: 2024-05-01, PRICE: 4890.00\n",
      "ORDER ID:23, DATE: 2024-05-01, PRICE: 2540.00\n",
      "ORDER ID:24, DATE: 2024-05-01, PRICE: 1720.00\n",
      "ORDER ID:25, DATE: 2024-05-02, PRICE: 322499.00\n",
      "ORDER ID:26, DATE: 2024-05-02, PRICE: 3399.00\n",
      "ORDER ID:27, DATE: 2024-05-02, PRICE: 1190.00\n",
      "ORDER ID:28, DATE: 2024-05-03, PRICE: 9499.00\n",
      "ORDER ID:29, DATE: 2024-05-03, PRICE: 700.00\n",
      "ORDER ID:30, DATE: 2024-05-03, PRICE: 1690.00\n",
      "ORDER ID:31, DATE: 2024-05-04, PRICE: 3280.00\n"
     ]
    }
   ],
   "source": [
    "# exercise 01\n",
    "\n",
    "for o in Order.objects.filter(order_date__month = 5)[:10]:\n",
    "    print(f\"ORDER ID:{o.id}, DATE: {o.order_date}, PRICE: {o.payment.price}\")"
   ]
  },
  {
   "cell_type": "code",
   "execution_count": 9,
   "id": "75e2879f",
   "metadata": {},
   "outputs": [
    {
     "name": "stdout",
     "output_type": "stream",
     "text": [
      "PRODUCT ID: 1, DESCRIPTION: A sleek and powerful smartphone with advanced features.\n",
      "PRODUCT ID: 7, DESCRIPTION: High-resolution digital camera with advanced photography features.\n",
      "PRODUCT ID: 10, DESCRIPTION: A stylish smartwatch with health monitoring and notification features.\n",
      "PRODUCT ID: 14, DESCRIPTION: Split air conditioner with remote control and energy-saving features.\n",
      "PRODUCT ID: 45, DESCRIPTION: Customizable racing track set with loop and jump features.\n"
     ]
    }
   ],
   "source": [
    "# exercise 02\n",
    "\n",
    "for p in Product.objects.filter(description__endswith = \"features.\"):\n",
    "    print(f\"PRODUCT ID: {p.id}, DESCRIPTION: {p.description}\")"
   ]
  },
  {
   "cell_type": "code",
   "execution_count": 10,
   "id": "c04ddda0",
   "metadata": {},
   "outputs": [
    {
     "name": "stdout",
     "output_type": "stream",
     "text": [
      "PRODUCT ID: 1, NAME: Smartphone, PRICE: 5900.00\n",
      "PRODUCT ID: 2, NAME: Laptop, PRICE: 25999.00\n",
      "PRODUCT ID: 3, NAME: Smart TV, PRICE: 8900.00\n",
      "PRODUCT ID: 5, NAME: Tablet, PRICE: 12900.00\n",
      "PRODUCT ID: 6, NAME: Gaming Console, PRICE: 5000.00\n",
      "PRODUCT ID: 7, NAME: Digital Camera, PRICE: 32000.00\n",
      "PRODUCT ID: 11, NAME: Refrigerator, PRICE: 9000.00\n",
      "PRODUCT ID: 14, NAME: Air Conditioner, PRICE: 18900.00\n",
      "PRODUCT ID: 31, NAME: Sofa, PRICE: 7000.00\n",
      "PRODUCT ID: 54, NAME: Automatic Pet Feeder, PRICE: 7900.00\n",
      "PRODUCT ID: 61, NAME: Diamond Stud Earrings, PRICE: 320000.00\n",
      "PRODUCT ID: 62, NAME: Silver Charm Bracelet, PRICE: 70000.00\n",
      "PRODUCT ID: 63, NAME: Gold Pendant Necklace, PRICE: 59000.00\n",
      "PRODUCT ID: 64, NAME: Gemstone Ring, PRICE: 9000.00\n",
      "PRODUCT ID: 65, NAME: Rose Gold Hoop Earrings, PRICE: 1200000.00\n",
      "PRODUCT ID: 69, NAME: Notebook HP Pavillion Silver, PRICE: 20000.00\n",
      "PRODUCT ID: 72, NAME: Notebook HP Pavilion Silver, PRICE: 20000.00\n"
     ]
    }
   ],
   "source": [
    "# exercise 03\n",
    "\n",
    "for p in Product.objects.filter(price__gte = 5000):\n",
    "    print(f\"PRODUCT ID: {p.id}, NAME: {p.name}, PRICE: {p.price}\")"
   ]
  },
  {
   "cell_type": "code",
   "execution_count": 14,
   "id": "b9b4966a",
   "metadata": {},
   "outputs": [
    {
     "name": "stdout",
     "output_type": "stream",
     "text": [
      "PRODUCT ID: 1, NAME: Smartphone, PRICE: 5900.00\n",
      "PRODUCT ID: 3, NAME: Smart TV, PRICE: 8900.00\n",
      "PRODUCT ID: 4, NAME: Bluetooth Earphones, PRICE: 350.00\n",
      "PRODUCT ID: 5, NAME: Tablet, PRICE: 12900.00\n",
      "PRODUCT ID: 6, NAME: Gaming Console, PRICE: 5000.00\n",
      "PRODUCT ID: 8, NAME: Wireless Router, PRICE: 990.00\n",
      "PRODUCT ID: 9, NAME: Portable Power Bank, PRICE: 390.00\n",
      "PRODUCT ID: 10, NAME: Smartwatch, PRICE: 4500.00\n"
     ]
    }
   ],
   "source": [
    "# exercise 04\n",
    "\n",
    "for p in Product.objects.filter(price__lt = 20000, price__gt = 100, categories__name = \"Information Technology\"):\n",
    "    print(f\"PRODUCT ID: {p.id}, NAME: {p.name}, PRICE: {p.price}\")"
   ]
  },
  {
   "cell_type": "code",
   "execution_count": 15,
   "id": "a8f8b6f7",
   "metadata": {},
   "outputs": [],
   "source": [
    "# INSERT UPDATE DELETE\n",
    "\n",
    "# exercise 01\n",
    "\n",
    "p1 = Product(name = \"Philosopher's Stone (1997)\", description = \"By J. K. Rowling\", remaining_amount = 20, price = 790)\n",
    "p1.save()\n",
    "cat = ProductCategory.objects.get(pk = 7)\n",
    "p1.categories.add(cat)\n",
    "\n",
    "p2 = Product(name = \"Me Before You\", description = \"A romance novel written by Jojo\", remaining_amount = 40, price = 390)\n",
    "p2.save()\n",
    "p2.categories.add(7)\n",
    "\n",
    "p3 = Product(name = \"Notebook HP Pavilion Silver\", description = \"Display Screen. 16.0\", remaining_amount = 10, price = 20000)\n",
    "p3.save()\n",
    "p3.categories.add(1, 2)"
   ]
  },
  {
   "cell_type": "code",
   "execution_count": 16,
   "id": "df4d7edc",
   "metadata": {},
   "outputs": [],
   "source": [
    "# exercise 02\n",
    "\n",
    "p1.name = \"Half-Blood Prince (2005)\"\n",
    "p1.save()"
   ]
  },
  {
   "cell_type": "code",
   "execution_count": 20,
   "id": "b995cc46",
   "metadata": {},
   "outputs": [],
   "source": [
    "# exercise 03\n",
    "\n",
    "book = ProductCategory.objects.get(pk = 7)\n",
    "book.name = \"Media\"\n",
    "book.save()"
   ]
  },
  {
   "cell_type": "code",
   "execution_count": 24,
   "id": "f43fc61e",
   "metadata": {},
   "outputs": [
    {
     "data": {
      "text/plain": [
       "(239,\n",
       " {'shop.PaymentItem': 58,\n",
       "  'shop.Product_categories': 10,\n",
       "  'shop.CartItem': 103,\n",
       "  'shop.OrderItem': 58,\n",
       "  'shop.Product': 10})"
      ]
     },
     "execution_count": 24,
     "metadata": {},
     "output_type": "execute_result"
    }
   ],
   "source": [
    "# exercise 04\n",
    "\n",
    "Product.objects.filter(categories = 6).delete()"
   ]
  },
  {
   "cell_type": "raw",
   "id": "d19688f4",
   "metadata": {},
   "source": []
  },
  {
   "cell_type": "code",
   "execution_count": 25,
   "id": "0089ec0a",
   "metadata": {},
   "outputs": [
    {
     "data": {
      "text/plain": [
       "0"
      ]
     },
     "execution_count": 25,
     "metadata": {},
     "output_type": "execute_result"
    }
   ],
   "source": [
    "Product.objects.filter(categories = 6).count()"
   ]
  }
 ],
 "metadata": {
  "kernelspec": {
   "display_name": "Django Shell-Plus",
   "language": "python",
   "name": "django_extensions"
  },
  "language_info": {
   "codemirror_mode": {
    "name": "ipython",
    "version": 3
   },
   "file_extension": ".py",
   "mimetype": "text/x-python",
   "name": "python",
   "nbconvert_exporter": "python",
   "pygments_lexer": "ipython3",
   "version": "3.12.4"
  }
 },
 "nbformat": 4,
 "nbformat_minor": 5
}
