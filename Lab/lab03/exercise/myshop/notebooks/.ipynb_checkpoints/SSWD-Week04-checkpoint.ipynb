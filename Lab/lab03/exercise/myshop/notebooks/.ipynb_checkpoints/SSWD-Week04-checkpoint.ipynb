{
 "cells": [
  {
   "cell_type": "code",
   "execution_count": 1,
   "id": "d6920fb0",
   "metadata": {},
   "outputs": [],
   "source": [
    "import os\n",
    "os.environ[\"DJANGO_ALLOW_ASYNC_UNSAFE\"] = \"true\""
   ]
  },
  {
   "cell_type": "code",
   "execution_count": 2,
   "id": "6a7f5267",
   "metadata": {},
   "outputs": [],
   "source": [
    " from shop.models import Order, Product, ProductCategory"
   ]
  },
  {
   "cell_type": "code",
   "execution_count": null,
   "id": "8fab9935",
   "metadata": {},
   "outputs": [],
   "source": [
    "# exercise 01\n",
    "\n",
    "for o in Order.objects.filter(order_date__month = 5)[:10]:\n",
    "    print(f\"ORDER ID:{o.id}, DATE: {o.order_date}, PRICE: {o.payment.price}\")"
   ]
  },
  {
   "cell_type": "code",
   "execution_count": null,
   "id": "75e2879f",
   "metadata": {},
   "outputs": [],
   "source": [
    "# exercise 02\n",
    "\n",
    "for p in Product.objects.filter(description__endswith = \"features.\"):\n",
    "    print(f\"PRODUCT ID: {p.id}, DESCRIPTION: {p.description}\")"
   ]
  },
  {
   "cell_type": "code",
   "execution_count": null,
   "id": "c04ddda0",
   "metadata": {},
   "outputs": [],
   "source": [
    "# exercise 03\n",
    "\n",
    "for p in Product.objects.filter(price__gte = 5000):\n",
    "    print(f\"PRODUCT ID: {p.id}, NAME: {p.name}, PRICE: {p.price}\")"
   ]
  },
  {
   "cell_type": "code",
   "execution_count": null,
   "id": "b9b4966a",
   "metadata": {},
   "outputs": [],
   "source": [
    "# exercise 04\n",
    "\n",
    "for p in Product.objects.filter(price__lt = 200, price__gt = 100):\n",
    "    print(f\"PRODUCT ID: {p.id}, NAME: {p.name}, PRICE: {p.price}\")"
   ]
  },
  {
   "cell_type": "code",
   "execution_count": null,
   "id": "a8f8b6f7",
   "metadata": {},
   "outputs": [],
   "source": [
    "# INSERT UPDATE DELETE\n",
    "\n",
    "# exercise 01\n",
    "\n",
    "p1 = Product(name = \"Philosopher's Stone (1997)\", description = \"By J. K. Rowling\", remaining_amount = 20, price = 790)\n",
    "p1.save()\n",
    "p1.categories.add(7)\n",
    "\n",
    "p2 = Product(name = \"Me Before You\", description = \"A romance novel written by Jojo\", remaining_amount = 40, price = 390)\n",
    "p2.save()\n",
    "p2.categories.add(7)\n",
    "\n",
    "p3 = Product(name = \"Notebook HP Pavilion Silver\", description = \"Display Screen. 16.0\", remaining_amount = 10, price = 20000)\n",
    "p3.save()\n",
    "p3.categories.add(1, 2)"
   ]
  }
 ],
 "metadata": {
  "kernelspec": {
   "display_name": "Django Shell-Plus",
   "language": "python",
   "name": "django_extensions"
  },
  "language_info": {
   "codemirror_mode": {
    "name": "ipython",
    "version": 3
   },
   "file_extension": ".py",
   "mimetype": "text/x-python",
   "name": "python",
   "nbconvert_exporter": "python",
   "pygments_lexer": "ipython3",
   "version": "3.12.4"
  }
 },
 "nbformat": 4,
 "nbformat_minor": 5
}
